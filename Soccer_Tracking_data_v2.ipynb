{
  "cells": [
    {
      "cell_type": "markdown",
      "metadata": {
        "colab_type": "text",
        "id": "view-in-github"
      },
      "source": [
        "<a href=\"https://colab.research.google.com/github/yoshi2210/SoccerAnalytics/blob/main/Soccer_Tracking_data_v2.ipynb\" target=\"_parent\"><img src=\"https://colab.research.google.com/assets/colab-badge.svg\" alt=\"Open In Colab\"/></a>"
      ]
    },
    {
      "cell_type": "markdown",
      "metadata": {
        "id": "CK1prXWW0nNk"
      },
      "source": [
        "# First of all\n",
        "\n",
        "## Purpose\n",
        "This code was intended to demo how to use 2D soccer ground positional tracking data, that is homographi'ed' camera movie data , by using Metrica data.\n",
        "\n",
        "## Note\n",
        "Metrica data has off-ball positional data, so we can consider it ideal data given camera wouldn't be able to capture all player at once everytime. Skill corner data could be more realitic due to its limitation to which players are on screen at that time. In other words, it's more like on-ball positional data. In this time, I adopt Metrica data because we can find good referencial code and it matches event data too."
      ]
    },
    {
      "cell_type": "code",
      "execution_count": null,
      "metadata": {
        "id": "twMCW4wlVFpu"
      },
      "outputs": [],
      "source": [
        "# hogehoge from vscode\n",
        "import pandas as pd"
      ]
    },
    {
      "cell_type": "markdown",
      "metadata": {
        "id": "51hBbSUSVYXU"
      },
      "source": [
        "# GIT"
      ]
    },
    {
      "cell_type": "code",
      "execution_count": null,
      "metadata": {
        "colab": {
          "base_uri": "https://localhost:8080/"
        },
        "id": "oCNpWL0sVc-9",
        "outputId": "55e402be-6386-45ef-f68c-cd9d06fdd1a8"
      },
      "outputs": [
        {
          "name": "stdout",
          "output_type": "stream",
          "text": [
            "Cloning into 'sample-data'...\n",
            "remote: Enumerating objects: 63, done.\u001b[K\n",
            "remote: Counting objects: 100% (3/3), done.\u001b[K\n",
            "remote: Compressing objects: 100% (3/3), done.\u001b[K\n",
            "remote: Total 63 (delta 0), reused 0 (delta 0), pack-reused 60\u001b[K\n",
            "Unpacking objects: 100% (63/63), done.\n"
          ]
        }
      ],
      "source": [
        "! git clone https://github.com/metrica-sports/sample-data.git"
      ]
    },
    {
      "cell_type": "code",
      "execution_count": null,
      "metadata": {
        "colab": {
          "base_uri": "https://localhost:8080/"
        },
        "id": "gpIpF2uDVf5w",
        "outputId": "4ba2325a-69cd-4e42-86b5-759c28366076"
      },
      "outputs": [
        {
          "name": "stdout",
          "output_type": "stream",
          "text": [
            "Cloning into 'narya'...\n",
            "remote: Enumerating objects: 440, done.\u001b[K\n",
            "remote: Counting objects: 100% (80/80), done.\u001b[K\n",
            "remote: Compressing objects: 100% (16/16), done.\u001b[K\n",
            "remote: Total 440 (delta 68), reused 64 (delta 64), pack-reused 360\u001b[K\n",
            "Receiving objects: 100% (440/440), 24.25 MiB | 29.59 MiB/s, done.\n",
            "Resolving deltas: 100% (200/200), done.\n"
          ]
        }
      ],
      "source": [
        "!git clone https://github.com/DonsetPG/narya.git"
      ]
    },
    {
      "cell_type": "code",
      "execution_count": null,
      "metadata": {
        "colab": {
          "base_uri": "https://localhost:8080/"
        },
        "id": "mfXTp2ewVgRQ",
        "outputId": "834e77f8-a294-4478-fce5-6337104dc85c"
      },
      "outputs": [
        {
          "name": "stdout",
          "output_type": "stream",
          "text": [
            "Cloning into 'LaurieOnTracking'...\n",
            "remote: Enumerating objects: 96, done.\u001b[K\n",
            "remote: Counting objects: 100% (4/4), done.\u001b[K\n",
            "remote: Compressing objects: 100% (4/4), done.\u001b[K\n",
            "remote: Total 96 (delta 0), reused 1 (delta 0), pack-reused 92\u001b[K\n",
            "Unpacking objects: 100% (96/96), done.\n"
          ]
        }
      ],
      "source": [
        "! git clone https://github.com/Friends-of-Tracking-Data-FoTD/LaurieOnTracking.git"
      ]
    },
    {
      "cell_type": "code",
      "execution_count": null,
      "metadata": {
        "id": "q6xvqYxpVh1I"
      },
      "outputs": [],
      "source": []
    },
    {
      "cell_type": "markdown",
      "metadata": {
        "id": "yqPbNXzxVmOG"
      },
      "source": [
        "# Loading Source data"
      ]
    },
    {
      "cell_type": "code",
      "execution_count": null,
      "metadata": {
        "id": "Z7wQTaCjVl1N"
      },
      "outputs": [],
      "source": [
        "# set up initial path to data\n",
        "#DATADIR = '/PATH/TO/WHERE/YOU/SAVED/THE/SAMPLE/DATA'\n",
        "#DATADIR = '/Users/laurieshaw/Documents/Football/Data/TrackingData/Metrica/sample-data-master/data'\n",
        "DATADIR = '/content/sample-data/data'"
      ]
    },
    {
      "cell_type": "code",
      "execution_count": null,
      "metadata": {
        "id": "8Q7NQEyeWPvE"
      },
      "outputs": [],
      "source": [
        "# google colabo dir of git clone\n",
        "from os import chdir as cd\n",
        "cd('/content/LaurieOnTracking')"
      ]
    },
    {
      "cell_type": "code",
      "execution_count": null,
      "metadata": {
        "colab": {
          "base_uri": "https://localhost:8080/"
        },
        "id": "8SOuitOVWlzW",
        "outputId": "c9c590a5-ee3d-47fb-8dc3-5cf8b854d564"
      },
      "outputs": [
        {
          "name": "stdout",
          "output_type": "stream",
          "text": [
            "EPV_grid.csv    Metrica_PitchControl.py  Tutorial1_GettingStarted.py\n",
            "LICENSE         Metrica_Velocities.py    Tutorial2_DelvingDeeper.py\n",
            "Metrica_EPV.py  Metrica_Viz.py           Tutorial3_PitchControl.py\n",
            "Metrica_IO.py   README.md                Tutorial4_EPV.py\n"
          ]
        }
      ],
      "source": [
        "ls"
      ]
    },
    {
      "cell_type": "code",
      "execution_count": null,
      "metadata": {
        "colab": {
          "base_uri": "https://localhost:8080/"
        },
        "id": "7W3-5I7nV3XV",
        "outputId": "4d5d118d-bb09-4044-eff6-4b060084919b"
      },
      "outputs": [
        {
          "name": "stdout",
          "output_type": "stream",
          "text": [
            "Reading team: home\n",
            "Reading team: away\n"
          ]
        }
      ],
      "source": [
        "import Metrica_IO as mio\n",
        "import Metrica_Viz as mviz\n",
        "import Metrica_Velocities as mvel\n",
        "import Metrica_PitchControl as mpc\n",
        "import numpy as np\n",
        "import matplotlib.pyplot as plt\n",
        "\n",
        "game_id = 1 # let's look at sample match 2\n",
        "\n",
        "# read in the event data\n",
        "events = mio.read_event_data(DATADIR,game_id)\n",
        "\n",
        "# read in tracking data\n",
        "tracking_home = mio.tracking_data(DATADIR,game_id,'Home')\n",
        "tracking_away = mio.tracking_data(DATADIR,game_id,'Away')\n",
        "\n"
      ]
    },
    {
      "cell_type": "code",
      "execution_count": null,
      "metadata": {
        "id": "3z81oYgwV8dt"
      },
      "outputs": [],
      "source": [
        "tracking_home.head(2)"
      ]
    },
    {
      "cell_type": "markdown",
      "metadata": {
        "id": "mfJAyL4O1nTG"
      },
      "source": [
        "# DataClensing&Enrichment"
      ]
    },
    {
      "cell_type": "markdown",
      "metadata": {
        "id": "oPjdjgtn4O-w"
      },
      "source": [
        "## Convert positions from metrica units to meters (note change in Metrica's coordinate system since the last lesson)"
      ]
    },
    {
      "cell_type": "code",
      "execution_count": null,
      "metadata": {
        "id": "vRslxb1e4Qn9"
      },
      "outputs": [],
      "source": [
        "# Convert positions from metrica units to meters (note change in Metrica's coordinate system since the last lesson)\n",
        "tracking_home = mio.to_metric_coordinates(tracking_home)\n",
        "tracking_away = mio.to_metric_coordinates(tracking_away)\n",
        "events = mio.to_metric_coordinates(events)\n"
      ]
    },
    {
      "cell_type": "markdown",
      "metadata": {
        "id": "ax8Bj3s632X6"
      },
      "source": [
        "## Flip coordinates in second half so that each team always shoots in the same direction through the match"
      ]
    },
    {
      "cell_type": "code",
      "execution_count": null,
      "metadata": {
        "colab": {
          "base_uri": "https://localhost:8080/"
        },
        "id": "9ARrNmABW5eP",
        "outputId": "e6ee0860-213b-4902-c4c3-29badddc67f0"
      },
      "outputs": [
        {
          "name": "stdout",
          "output_type": "stream",
          "text": [
            "tracking_ (145006, 32)\n",
            "event_ (1745, 14)\n",
            "team_ (145006, 32)\n",
            "second_half 71269\n",
            "team_ (145006, 32)\n",
            "second_half 71269\n",
            "team_ (1745, 14)\n",
            "second_half 892\n"
          ]
        }
      ],
      "source": [
        "#  Flip coordinates in second half so that each team always shoots in the same direction through the match\n",
        "print('tracking_',tracking_home.shape)\n",
        "print('event_',events.shape)\n",
        "\n",
        "for team in [tracking_home,tracking_away,events]:\n",
        "    print('team_',team.shape)\n",
        "    second_half_idx = team.Period.idxmax()\n",
        "    print('second_half',second_half_idx)\n",
        "    columns = [c for c in team.columns if c[-1].lower() in ['x','y']]\n",
        "    team.loc[second_half_idx:,columns] *= -1"
      ]
    },
    {
      "cell_type": "markdown",
      "metadata": {
        "id": "aa14b11W38eh"
      },
      "source": [
        "## Add verocities per players"
      ]
    },
    {
      "cell_type": "code",
      "execution_count": null,
      "metadata": {
        "colab": {
          "base_uri": "https://localhost:8080/"
        },
        "id": "kq_fUcDYXByY",
        "outputId": "9ef6e617-4c3b-401a-dd5f-f87195d40d42"
      },
      "outputs": [
        {
          "data": {
            "text/html": [
              "\n",
              "  <div id=\"df-a8de7b59-7b1a-4d0a-ad2c-a9b65c5aa1fe\">\n",
              "    <div class=\"colab-df-container\">\n",
              "      <div>\n",
              "<style scoped>\n",
              "    .dataframe tbody tr th:only-of-type {\n",
              "        vertical-align: middle;\n",
              "    }\n",
              "\n",
              "    .dataframe tbody tr th {\n",
              "        vertical-align: top;\n",
              "    }\n",
              "\n",
              "    .dataframe thead th {\n",
              "        text-align: right;\n",
              "    }\n",
              "</style>\n",
              "<table border=\"1\" class=\"dataframe\">\n",
              "  <thead>\n",
              "    <tr style=\"text-align: right;\">\n",
              "      <th></th>\n",
              "      <th>Period</th>\n",
              "      <th>Time [s]</th>\n",
              "      <th>Home_11_x</th>\n",
              "      <th>Home_11_y</th>\n",
              "      <th>Home_1_x</th>\n",
              "      <th>Home_1_y</th>\n",
              "      <th>Home_2_x</th>\n",
              "      <th>Home_2_y</th>\n",
              "      <th>Home_3_x</th>\n",
              "      <th>Home_3_y</th>\n",
              "      <th>...</th>\n",
              "      <th>Home_6_speed</th>\n",
              "      <th>Home_7_vx</th>\n",
              "      <th>Home_7_vy</th>\n",
              "      <th>Home_7_speed</th>\n",
              "      <th>Home_8_vx</th>\n",
              "      <th>Home_8_vy</th>\n",
              "      <th>Home_8_speed</th>\n",
              "      <th>Home_9_vx</th>\n",
              "      <th>Home_9_vy</th>\n",
              "      <th>Home_9_speed</th>\n",
              "    </tr>\n",
              "    <tr>\n",
              "      <th>Frame</th>\n",
              "      <th></th>\n",
              "      <th></th>\n",
              "      <th></th>\n",
              "      <th></th>\n",
              "      <th></th>\n",
              "      <th></th>\n",
              "      <th></th>\n",
              "      <th></th>\n",
              "      <th></th>\n",
              "      <th></th>\n",
              "      <th></th>\n",
              "      <th></th>\n",
              "      <th></th>\n",
              "      <th></th>\n",
              "      <th></th>\n",
              "      <th></th>\n",
              "      <th></th>\n",
              "      <th></th>\n",
              "      <th></th>\n",
              "      <th></th>\n",
              "      <th></th>\n",
              "    </tr>\n",
              "  </thead>\n",
              "  <tbody>\n",
              "    <tr>\n",
              "      <th>1</th>\n",
              "      <td>1</td>\n",
              "      <td>0.04</td>\n",
              "      <td>-52.91308</td>\n",
              "      <td>1.19816</td>\n",
              "      <td>-18.39312</td>\n",
              "      <td>-10.41896</td>\n",
              "      <td>-17.27694</td>\n",
              "      <td>0.77316</td>\n",
              "      <td>-20.21738</td>\n",
              "      <td>9.84028</td>\n",
              "      <td>...</td>\n",
              "      <td>NaN</td>\n",
              "      <td>NaN</td>\n",
              "      <td>NaN</td>\n",
              "      <td>NaN</td>\n",
              "      <td>NaN</td>\n",
              "      <td>NaN</td>\n",
              "      <td>NaN</td>\n",
              "      <td>NaN</td>\n",
              "      <td>NaN</td>\n",
              "      <td>NaN</td>\n",
              "    </tr>\n",
              "    <tr>\n",
              "      <th>2</th>\n",
              "      <td>1</td>\n",
              "      <td>0.08</td>\n",
              "      <td>-52.89824</td>\n",
              "      <td>1.19816</td>\n",
              "      <td>-18.39312</td>\n",
              "      <td>-10.41896</td>\n",
              "      <td>-17.27694</td>\n",
              "      <td>0.77316</td>\n",
              "      <td>-20.21738</td>\n",
              "      <td>9.84028</td>\n",
              "      <td>...</td>\n",
              "      <td>NaN</td>\n",
              "      <td>NaN</td>\n",
              "      <td>NaN</td>\n",
              "      <td>NaN</td>\n",
              "      <td>NaN</td>\n",
              "      <td>NaN</td>\n",
              "      <td>NaN</td>\n",
              "      <td>NaN</td>\n",
              "      <td>NaN</td>\n",
              "      <td>NaN</td>\n",
              "    </tr>\n",
              "  </tbody>\n",
              "</table>\n",
              "<p>2 rows × 74 columns</p>\n",
              "</div>\n",
              "      <button class=\"colab-df-convert\" onclick=\"convertToInteractive('df-a8de7b59-7b1a-4d0a-ad2c-a9b65c5aa1fe')\"\n",
              "              title=\"Convert this dataframe to an interactive table.\"\n",
              "              style=\"display:none;\">\n",
              "        \n",
              "  <svg xmlns=\"http://www.w3.org/2000/svg\" height=\"24px\"viewBox=\"0 0 24 24\"\n",
              "       width=\"24px\">\n",
              "    <path d=\"M0 0h24v24H0V0z\" fill=\"none\"/>\n",
              "    <path d=\"M18.56 5.44l.94 2.06.94-2.06 2.06-.94-2.06-.94-.94-2.06-.94 2.06-2.06.94zm-11 1L8.5 8.5l.94-2.06 2.06-.94-2.06-.94L8.5 2.5l-.94 2.06-2.06.94zm10 10l.94 2.06.94-2.06 2.06-.94-2.06-.94-.94-2.06-.94 2.06-2.06.94z\"/><path d=\"M17.41 7.96l-1.37-1.37c-.4-.4-.92-.59-1.43-.59-.52 0-1.04.2-1.43.59L10.3 9.45l-7.72 7.72c-.78.78-.78 2.05 0 2.83L4 21.41c.39.39.9.59 1.41.59.51 0 1.02-.2 1.41-.59l7.78-7.78 2.81-2.81c.8-.78.8-2.07 0-2.86zM5.41 20L4 18.59l7.72-7.72 1.47 1.35L5.41 20z\"/>\n",
              "  </svg>\n",
              "      </button>\n",
              "      \n",
              "  <style>\n",
              "    .colab-df-container {\n",
              "      display:flex;\n",
              "      flex-wrap:wrap;\n",
              "      gap: 12px;\n",
              "    }\n",
              "\n",
              "    .colab-df-convert {\n",
              "      background-color: #E8F0FE;\n",
              "      border: none;\n",
              "      border-radius: 50%;\n",
              "      cursor: pointer;\n",
              "      display: none;\n",
              "      fill: #1967D2;\n",
              "      height: 32px;\n",
              "      padding: 0 0 0 0;\n",
              "      width: 32px;\n",
              "    }\n",
              "\n",
              "    .colab-df-convert:hover {\n",
              "      background-color: #E2EBFA;\n",
              "      box-shadow: 0px 1px 2px rgba(60, 64, 67, 0.3), 0px 1px 3px 1px rgba(60, 64, 67, 0.15);\n",
              "      fill: #174EA6;\n",
              "    }\n",
              "\n",
              "    [theme=dark] .colab-df-convert {\n",
              "      background-color: #3B4455;\n",
              "      fill: #D2E3FC;\n",
              "    }\n",
              "\n",
              "    [theme=dark] .colab-df-convert:hover {\n",
              "      background-color: #434B5C;\n",
              "      box-shadow: 0px 1px 3px 1px rgba(0, 0, 0, 0.15);\n",
              "      filter: drop-shadow(0px 1px 2px rgba(0, 0, 0, 0.3));\n",
              "      fill: #FFFFFF;\n",
              "    }\n",
              "  </style>\n",
              "\n",
              "      <script>\n",
              "        const buttonEl =\n",
              "          document.querySelector('#df-a8de7b59-7b1a-4d0a-ad2c-a9b65c5aa1fe button.colab-df-convert');\n",
              "        buttonEl.style.display =\n",
              "          google.colab.kernel.accessAllowed ? 'block' : 'none';\n",
              "\n",
              "        async function convertToInteractive(key) {\n",
              "          const element = document.querySelector('#df-a8de7b59-7b1a-4d0a-ad2c-a9b65c5aa1fe');\n",
              "          const dataTable =\n",
              "            await google.colab.kernel.invokeFunction('convertToInteractive',\n",
              "                                                     [key], {});\n",
              "          if (!dataTable) return;\n",
              "\n",
              "          const docLinkHtml = 'Like what you see? Visit the ' +\n",
              "            '<a target=\"_blank\" href=https://colab.research.google.com/notebooks/data_table.ipynb>data table notebook</a>'\n",
              "            + ' to learn more about interactive tables.';\n",
              "          element.innerHTML = '';\n",
              "          dataTable['output_type'] = 'display_data';\n",
              "          await google.colab.output.renderOutput(dataTable, element);\n",
              "          const docLink = document.createElement('div');\n",
              "          docLink.innerHTML = docLinkHtml;\n",
              "          element.appendChild(docLink);\n",
              "        }\n",
              "      </script>\n",
              "    </div>\n",
              "  </div>\n",
              "  "
            ],
            "text/plain": [
              "       Period  Time [s]  Home_11_x  Home_11_y  Home_1_x  Home_1_y  Home_2_x  \\\n",
              "Frame                                                                         \n",
              "1           1      0.04  -52.91308    1.19816 -18.39312 -10.41896 -17.27694   \n",
              "2           1      0.08  -52.89824    1.19816 -18.39312 -10.41896 -17.27694   \n",
              "\n",
              "       Home_2_y  Home_3_x  Home_3_y  ...  Home_6_speed  Home_7_vx  Home_7_vy  \\\n",
              "Frame                                ...                                       \n",
              "1       0.77316 -20.21738   9.84028  ...           NaN        NaN        NaN   \n",
              "2       0.77316 -20.21738   9.84028  ...           NaN        NaN        NaN   \n",
              "\n",
              "       Home_7_speed  Home_8_vx  Home_8_vy  Home_8_speed  Home_9_vx  Home_9_vy  \\\n",
              "Frame                                                                           \n",
              "1               NaN        NaN        NaN           NaN        NaN        NaN   \n",
              "2               NaN        NaN        NaN           NaN        NaN        NaN   \n",
              "\n",
              "       Home_9_speed  \n",
              "Frame                \n",
              "1               NaN  \n",
              "2               NaN  \n",
              "\n",
              "[2 rows x 74 columns]"
            ]
          },
          "execution_count": 11,
          "metadata": {},
          "output_type": "execute_result"
        }
      ],
      "source": [
        "# calculate speed\n",
        "\n",
        "import numpy as np\n",
        "import scipy.signal as signal\n",
        "\n",
        "def calc_player_velocities(team, smoothing=True, filter_='Savitzky-Golay', window=7, polyorder=1, maxspeed = 12):\n",
        "    \"\"\" calc_player_velocities( tracking_data )\n",
        "    \n",
        "    Calculate player velocities in x & y direciton, and total player speed at each timestamp of the tracking data\n",
        "    \n",
        "    Parameters\n",
        "    -----------\n",
        "        team: the tracking DataFrame for home or away team\n",
        "        smoothing: boolean variable that determines whether velocity measures are smoothed. Default is True.\n",
        "        filter: type of filter to use when smoothing the velocities. Default is Savitzky-Golay, which fits a polynomial of order 'polyorder' to the data within each window\n",
        "        window: smoothing window size in # of frames\n",
        "        polyorder: order of the polynomial for the Savitzky-Golay filter. Default is 1 - a linear fit to the velcoity, so gradient is the acceleration\n",
        "        maxspeed: the maximum speed that a player can realisitically achieve (in meters/second). Speed measures that exceed maxspeed are tagged as outliers and set to NaN. \n",
        "        \n",
        "    Returrns\n",
        "    -----------\n",
        "       team : the tracking DataFrame with columns for speed in the x & y direction and total speed added\n",
        "\n",
        "    \"\"\"\n",
        "    # remove any velocity data already in the dataframe\n",
        "    team = remove_player_velocities(team)\n",
        "    \n",
        "    # Get the player ids\n",
        "    player_ids = np.unique( [ c[:-2] for c in team.columns if c[:4] in ['Home','Away'] ] )\n",
        "\n",
        "    # Calculate the timestep from one frame to the next. Should always be 0.04 within the same half\n",
        "    dt = team['Time [s]'].diff()\n",
        "    \n",
        "    # index of first frame in second half\n",
        "    second_half_idx = team.Period.idxmax()\n",
        "    \n",
        "    # estimate velocities for players in team\n",
        "    for player in player_ids: # cycle through players individually\n",
        "        # difference player positions in timestep dt to get unsmoothed estimate of velicity\n",
        "        vx = team[player+\"_x\"].diff() / dt\n",
        "        vy = team[player+\"_y\"].diff() / dt\n",
        "\n",
        "        if maxspeed>0:\n",
        "            # remove unsmoothed data points that exceed the maximum speed (these are most likely position errors)\n",
        "            raw_speed = np.sqrt( vx**2 + vy**2 )\n",
        "            vx[ raw_speed>maxspeed ] = np.nan\n",
        "            vy[ raw_speed>maxspeed ] = np.nan\n",
        "            \n",
        "        if smoothing:\n",
        "            if filter_=='Savitzky-Golay':\n",
        "                # calculate first half velocity\n",
        "                vx.loc[:second_half_idx] = signal.savgol_filter(vx.loc[:second_half_idx],window_length=window,polyorder=polyorder)\n",
        "                vy.loc[:second_half_idx] = signal.savgol_filter(vy.loc[:second_half_idx],window_length=window,polyorder=polyorder)        \n",
        "                # calculate second half velocity\n",
        "                vx.loc[second_half_idx:] = signal.savgol_filter(vx.loc[second_half_idx:],window_length=window,polyorder=polyorder)\n",
        "                vy.loc[second_half_idx:] = signal.savgol_filter(vy.loc[second_half_idx:],window_length=window,polyorder=polyorder)\n",
        "            elif filter_=='moving average':\n",
        "                ma_window = np.ones( window ) / window \n",
        "                # calculate first half velocity\n",
        "                vx.loc[:second_half_idx] = np.convolve( vx.loc[:second_half_idx] , ma_window, mode='same' ) \n",
        "                vy.loc[:second_half_idx] = np.convolve( vy.loc[:second_half_idx] , ma_window, mode='same' )      \n",
        "                # calculate second half velocity\n",
        "                vx.loc[second_half_idx:] = np.convolve( vx.loc[second_half_idx:] , ma_window, mode='same' ) \n",
        "                vy.loc[second_half_idx:] = np.convolve( vy.loc[second_half_idx:] , ma_window, mode='same' ) \n",
        "                \n",
        "        \n",
        "        # put player speed in x,y direction, and total speed back in the data frame\n",
        "        team[player + \"_vx\"] = vx\n",
        "        team[player + \"_vy\"] = vy\n",
        "        team[player + \"_speed\"] = np.sqrt( vx**2 + vy**2 )\n",
        "\n",
        "    return team\n",
        "\n",
        "def remove_player_velocities(team):\n",
        "    # remove player velocoties and acceleeration measures that are already in the 'team' dataframe\n",
        "    columns = [c for c in team.columns if c.split('_')[-1] in ['vx','vy','ax','ay','speed','acceleration']] # Get the player ids\n",
        "    team = team.drop(columns=columns)\n",
        "    return team\n",
        "\n",
        "\n",
        "# Calculate player velocities\n",
        "tracking_home = calc_player_velocities(tracking_home,smoothing=True)\n",
        "tracking_away = calc_player_velocities(tracking_away,smoothing=True)\n",
        "\n",
        "tracking_home.head(2)"
      ]
    },
    {
      "cell_type": "code",
      "execution_count": null,
      "metadata": {
        "id": "kV2WqD261wzZ"
      },
      "outputs": [],
      "source": []
    },
    {
      "cell_type": "markdown",
      "metadata": {
        "id": "V8rWbRdN1wY0"
      },
      "source": [
        "# Self functions"
      ]
    },
    {
      "cell_type": "code",
      "execution_count": null,
      "metadata": {
        "id": "yATmOksf1yD-"
      },
      "outputs": [],
      "source": [
        "def find_goalkeeper(team):\n",
        "    '''\n",
        "    Find the goalkeeper in team, identifying him/her as the player closest to goal at kick off\n",
        "    ''' \n",
        "    x_columns = [c for c in team.columns if c[-2:].lower()=='_x' and c[:4] in ['Home','Away']]\n",
        "    # GK_col = team.iloc[0][x_columns].abs().idxmax(axis=1)\n",
        "    GK_col = team.iloc[0][x_columns].abs().idxmax()\n",
        "    return GK_col.split('_')[1]\n",
        "\n",
        "def calculate_pitch_control_at_target(target_position, attacking_players, defending_players, ball_start_pos, params):\n",
        "    \"\"\" calculate_pitch_control_at_target\n",
        "    \n",
        "    Calculates the pitch control probability for the attacking and defending teams at a specified target position on the ball.\n",
        "    \n",
        "    Parameters\n",
        "    -----------\n",
        "        target_position: size 2 numpy array containing the (x,y) position of the position on the field to evaluate pitch control\n",
        "        attacking_players: list of 'player' objects (see player class above) for the players on the attacking team (team in possession)\n",
        "        defending_players: list of 'player' objects (see player class above) for the players on the defending team\n",
        "        ball_start_pos: Current position of the ball (start position for a pass). If set to NaN, function will assume that the ball is already at the target position.\n",
        "        params: Dictionary of model parameters (default model parameters can be generated using default_model_params() )\n",
        "        \n",
        "    Returrns\n",
        "    -----------\n",
        "        PPCFatt: Pitch control probability for the attacking team\n",
        "        PPCFdef: Pitch control probability for the defending team ( 1-PPCFatt-PPCFdef <  params['model_converge_tol'] )\n",
        "\n",
        "    \"\"\"\n",
        "    # calculate ball travel time from start position to end position.\n",
        "    if ball_start_pos is None or any(np.isnan(ball_start_pos)): # assume that ball is already at location\n",
        "        ball_travel_time = 0.0 \n",
        "    else:\n",
        "        # ball travel time is distance to target position from current ball position divided assumed average ball speed\n",
        "        ball_travel_time = np.linalg.norm( target_position - ball_start_pos )/params['average_ball_speed']\n",
        "    \n",
        "    # first get arrival time of 'nearest' attacking player (nearest also dependent on current velocity)\n",
        "    tau_min_att = np.nanmin( [p.simple_time_to_intercept(target_position) for p in attacking_players] )\n",
        "    tau_min_def = np.nanmin( [p.simple_time_to_intercept(target_position ) for p in defending_players] )\n",
        "    \n",
        "    # check whether we actually need to solve equation 3\n",
        "    if tau_min_att-max(ball_travel_time,tau_min_def) >= params['time_to_control_def']:\n",
        "        # if defending team can arrive significantly before attacking team, no need to solve pitch control model\n",
        "        return 0., 1.\n",
        "    elif tau_min_def-max(ball_travel_time,tau_min_att) >= params['time_to_control_att']:\n",
        "        # if attacking team can arrive significantly before defending team, no need to solve pitch control model\n",
        "        return 1., 0.\n",
        "    else: \n",
        "        # solve pitch control model by integrating equation 3 in Spearman et al.\n",
        "        # first remove any player that is far (in time) from the target location\n",
        "        attacking_players = [p for p in attacking_players if p.time_to_intercept-tau_min_att < params['time_to_control_att'] ]\n",
        "        defending_players = [p for p in defending_players if p.time_to_intercept-tau_min_def < params['time_to_control_def'] ]\n",
        "        # set up integration arrays\n",
        "        dT_array = np.arange(ball_travel_time-params['int_dt'],ball_travel_time+params['max_int_time'],params['int_dt']) \n",
        "        PPCFatt = np.zeros_like( dT_array )\n",
        "        PPCFdef = np.zeros_like( dT_array )\n",
        "        # integration equation 3 of Spearman 2018 until convergence or tolerance limit hit (see 'params')\n",
        "        ptot = 0.0\n",
        "        i = 1\n",
        "        while 1-ptot>params['model_converge_tol'] and i<dT_array.size: \n",
        "            T = dT_array[i]\n",
        "            for player in attacking_players:\n",
        "                # calculate ball control probablity for 'player' in time interval T+dt\n",
        "                dPPCFdT = (1-PPCFatt[i-1]-PPCFdef[i-1])*player.probability_intercept_ball( T ) * player.lambda_att\n",
        "                # make sure it's greater than zero\n",
        "                assert dPPCFdT>=0, 'Invalid attacking player probability (calculate_pitch_control_at_target)'\n",
        "                player.PPCF += dPPCFdT*params['int_dt'] # total contribution from individual player\n",
        "                PPCFatt[i] += player.PPCF # add to sum over players in the attacking team (remembering array element is zero at the start of each integration iteration)\n",
        "            for player in defending_players:\n",
        "                # calculate ball control probablity for 'player' in time interval T+dt\n",
        "                dPPCFdT = (1-PPCFatt[i-1]-PPCFdef[i-1])*player.probability_intercept_ball( T ) * player.lambda_def\n",
        "                # make sure it's greater than zero\n",
        "                assert dPPCFdT>=0, 'Invalid defending player probability (calculate_pitch_control_at_target)'\n",
        "                player.PPCF += dPPCFdT*params['int_dt'] # total contribution from individual player\n",
        "                PPCFdef[i] += player.PPCF # add to sum over players in the defending team\n",
        "            ptot = PPCFdef[i]+PPCFatt[i] # total pitch control probability \n",
        "            i += 1\n",
        "        if i>=dT_array.size:\n",
        "            print(\"Integration failed to converge: %1.3f\" % (ptot) )\n",
        "        return PPCFatt[i-1], PPCFdef[i-1]\n",
        "\n",
        "\n",
        "\n",
        "class player(object):\n",
        "    \"\"\"\n",
        "    player() class\n",
        "    \n",
        "    Class defining a player object that stores position, velocity, time-to-intercept and pitch control contributions for a player\n",
        "    \n",
        "    __init__ Parameters\n",
        "    -----------\n",
        "    pid: id (jersey number) of player\n",
        "    team: row of tracking data for team\n",
        "    teamname: team name \"Home\" or \"Away\"\n",
        "    params: Dictionary of model parameters (default model parameters can be generated using default_model_params() )\n",
        "    \n",
        "\n",
        "    methods include:\n",
        "    -----------\n",
        "    simple_time_to_intercept(r_final): time take for player to get to target position (r_final) given current position\n",
        "    probability_intercept_ball(T): probability player will have controlled ball at time T given their expected time_to_intercept\n",
        "    \n",
        "    \"\"\"\n",
        "    # player object holds position, velocity, time-to-intercept and pitch control contributions for each player\n",
        "    def __init__(self,pid,team,teamname,params,GKid):\n",
        "        self.id = pid\n",
        "        self.is_gk = self.id == GKid\n",
        "        self.teamname = teamname\n",
        "        self.playername = \"%s_%s_\" % (teamname,pid)\n",
        "        self.vmax = params['max_player_speed'] # player max speed in m/s. Could be individualised\n",
        "        self.reaction_time = params['reaction_time'] # player reaction time in 's'. Could be individualised\n",
        "        self.tti_sigma = params['tti_sigma'] # standard deviation of sigmoid function (see Eq 4 in Spearman, 2018)\n",
        "        self.lambda_att = params['lambda_att'] # standard deviation of sigmoid function (see Eq 4 in Spearman, 2018)\n",
        "        self.lambda_def = params['lambda_gk'] if self.is_gk else params['lambda_def'] # factor of 3 ensures that anything near the GK is likely to be claimed by the GK\n",
        "        self.get_position(team)\n",
        "        self.get_velocity(team)\n",
        "        self.PPCF = 0. # initialise this for later\n",
        "        \n",
        "    def get_position(self,team):\n",
        "        self.position = np.array( [ team[self.playername+'x'], team[self.playername+'y'] ] )\n",
        "        self.inframe = not np.any( np.isnan(self.position) )\n",
        "        \n",
        "    def get_velocity(self,team):\n",
        "        self.velocity = np.array( [ team[self.playername+'vx'], team[self.playername+'vy'] ] )\n",
        "        if np.any( np.isnan(self.velocity) ):\n",
        "            self.velocity = np.array([0.,0.])\n",
        "    \n",
        "    def simple_time_to_intercept(self, r_final):\n",
        "        self.PPCF = 0. # initialise this for later\n",
        "        # Time to intercept assumes that the player continues moving at current velocity for 'reaction_time' seconds\n",
        "        # and then runs at full speed to the target position.\n",
        "        r_reaction = self.position + self.velocity*self.reaction_time\n",
        "        self.time_to_intercept = self.reaction_time + np.linalg.norm(r_final-r_reaction)/self.vmax\n",
        "        return self.time_to_intercept\n",
        "\n",
        "    def probability_intercept_ball(self,T):\n",
        "        # probability of a player arriving at target location at time 'T' given their expected time_to_intercept (time of arrival), as described in Spearman 2018\n",
        "        f = 1/(1. + np.exp( -np.pi/np.sqrt(3.0)/self.tti_sigma * (T-self.time_to_intercept) ) )\n",
        "        return f\n",
        "\n",
        "\n",
        "def initialise_players(team,teamname,params,GKid):\n",
        "    \"\"\"\n",
        "    initialise_players(team,teamname,params)\n",
        "    \n",
        "    create a list of player objects that holds their positions and velocities from the tracking data dataframe \n",
        "    \n",
        "    Parameters\n",
        "    -----------\n",
        "    \n",
        "    team: row (i.e. instant) of either the home or away team tracking Dataframe\n",
        "    teamname: team name \"Home\" or \"Away\"\n",
        "    params: Dictionary of model parameters (default model parameters can be generated using default_model_params() )\n",
        "        \n",
        "    Returns\n",
        "    -----------\n",
        "    \n",
        "    team_players: list of player objects for the team at at given instant\n",
        "    \n",
        "    \"\"\"    \n",
        "    # get player  ids\n",
        "    player_ids = np.unique( [ c.split('_')[1] for c in team.keys() if c[:4] == teamname ] )\n",
        "    # create list\n",
        "    team_players = []\n",
        "    for p in player_ids:\n",
        "        # create a player object for player_id 'p'\n",
        "        team_player = player(p,team,teamname,params,GKid)\n",
        "        if team_player.inframe:\n",
        "            team_players.append(team_player)\n",
        "    return team_players\n",
        "\n",
        "def generate_pitch_control_for_track(certain_frame, tracking_home, tracking_away, params, GK_numbers, field_dimen = (106.,68.,), n_grid_cells_x = 50, offsides=False):\n",
        "    \"\"\" generate_pitch_control_for_event\n",
        "    \n",
        "    Evaluates pitch control surface over the entire field at the moment of the given event (determined by the index of the event passed as an input)\n",
        "    \n",
        "    Parameters\n",
        "    -----------\n",
        "        event_id: Index (not row) of the event that describes the instant at which the pitch control surface should be calculated\n",
        "        events: Dataframe containing the event data\n",
        "        tracking_home: tracking DataFrame for the Home team\n",
        "        tracking_away: tracking DataFrame for the Away team\n",
        "        params: Dictionary of model parameters (default model parameters can be generated using default_model_params() )\n",
        "        GK_numbers: tuple containing the player id of the goalkeepers for the (home team, away team)\n",
        "        field_dimen: tuple containing the length and width of the pitch in meters. Default is (106,68)\n",
        "        n_grid_cells_x: Number of pixels in the grid (in the x-direction) that covers the surface. Default is 50.\n",
        "                        n_grid_cells_y will be calculated based on n_grid_cells_x and the field dimensions\n",
        "        offsides: If True, find and remove offside atacking players from the calculation. Default is True.\n",
        "        \n",
        "    UPDATE (tutorial 4): Note new input arguments ('GK_numbers' and 'offsides')\n",
        "        \n",
        "    Returrns\n",
        "    -----------\n",
        "        PPCFa: Pitch control surface (dimen (n_grid_cells_x,n_grid_cells_y) ) containing pitch control probability for the attcking team.\n",
        "               Surface for the defending team is just 1-PPCFa.\n",
        "        xgrid: Positions of the pixels in the x-direction (field length)\n",
        "        ygrid: Positions of the pixels in the y-direction (field width)\n",
        "\n",
        "    \"\"\"\n",
        "    # get the details of the event (frame, team in possession, ball_start_position)\n",
        "    # pass_frame = events.loc[event_id]['Start Frame']\n",
        "    pass_frame = certain_frame\n",
        "    \n",
        "    #pass_team = events.loc[event_id].Team\n",
        "    #ball_start_pos = np.array([events.loc[event_id]['Start X'],events.loc[event_id]['Start Y']])\n",
        "    \n",
        "    ball_start_pos = np.array([tracking_home.ball_x.loc[certain_frame],tracking_home.ball_y.loc[certain_frame]])\n",
        "\n",
        "    # break the pitch down into a grid\n",
        "    n_grid_cells_y = int(n_grid_cells_x*field_dimen[1]/field_dimen[0])\n",
        "    dx = field_dimen[0]/n_grid_cells_x\n",
        "    dy = field_dimen[1]/n_grid_cells_y\n",
        "    xgrid = np.arange(n_grid_cells_x)*dx - field_dimen[0]/2. + dx/2.\n",
        "    ygrid = np.arange(n_grid_cells_y)*dy - field_dimen[1]/2. + dy/2.\n",
        "    # initialise pitch control grids for attacking and defending teams \n",
        "    PPCFa = np.zeros( shape = (len(ygrid), len(xgrid)) )\n",
        "    PPCFd = np.zeros( shape = (len(ygrid), len(xgrid)) )\n",
        "    # initialise player positions and velocities for pitch control calc (so that we're not repeating this at each grid cell position)\n",
        "    # if pass_team=='Home':\n",
        "    #     attacking_players = initialise_players(tracking_home.loc[pass_frame],'Home',params,GK_numbers[0])\n",
        "    #     defending_players = initialise_players(tracking_away.loc[pass_frame],'Away',params,GK_numbers[1])\n",
        "    # elif pass_team=='Away':\n",
        "    #     defending_players = initialise_players(tracking_home.loc[pass_frame],'Home',params,GK_numbers[0])\n",
        "    #     attacking_players = initialise_players(tracking_away.loc[pass_frame],'Away',params,GK_numbers[1])\n",
        "    # else:\n",
        "    #     assert False, \"Team in possession must be either home or away\"\n",
        "        \n",
        "    # Assumption, either is ok\n",
        "    attacking_players = initialise_players(tracking_home.loc[pass_frame],'Home',params,GK_numbers[0])\n",
        "    defending_players = initialise_players(tracking_away.loc[pass_frame],'Away',params,GK_numbers[1])\n",
        "\n",
        "\n",
        "    # find any attacking players that are offside and remove them from the pitch control calculation\n",
        "    # if offsides:\n",
        "    #     attacking_players = check_offsides( attacking_players, defending_players, ball_start_pos, GK_numbers)\n",
        "\n",
        "    # calculate pitch pitch control model at each location on the pitch\n",
        "    for i in range( len(ygrid) ):\n",
        "        for j in range( len(xgrid) ):\n",
        "            target_position = np.array( [xgrid[j], ygrid[i]] )\n",
        "            PPCFa[i,j],PPCFd[i,j] = calculate_pitch_control_at_target(target_position, attacking_players, defending_players, ball_start_pos, params)\n",
        "    # check probabilitiy sums within convergence\n",
        "    checksum = np.sum( PPCFa + PPCFd ) / float(n_grid_cells_y*n_grid_cells_x ) \n",
        "    assert 1-checksum < params['model_converge_tol'], \"Checksum failed: %1.3f\" % (1-checksum)\n",
        "    return PPCFa,xgrid,ygrid\n",
        "\n",
        "\n",
        "def plot_pitchcontrol_for_track( certain_frame, tracking_home, tracking_away, PPCF, alpha = 0.7, include_player_velocities=True, annotate=False, field_dimen = (106.0,68)):\n",
        "    \"\"\" plot_pitchcontrol_for_event( event_id, events,  tracking_home, tracking_away, PPCF )\n",
        "    \n",
        "    Plots the pitch control surface at the instant of the event given by the event_id. Player and ball positions are overlaid.\n",
        "    \n",
        "    Parameters\n",
        "    -----------\n",
        "        event_id: Index (not row) of the event that describes the instant at which the pitch control surface should be calculated\n",
        "        events: Dataframe containing the event data\n",
        "        tracking_home: (entire) tracking DataFrame for the Home team\n",
        "        tracking_away: (entire) tracking DataFrame for the Away team\n",
        "        PPCF: Pitch control surface (dimen (n_grid_cells_x,n_grid_cells_y) ) containing pitch control probability for the attcking team (as returned by the generate_pitch_control_for_event in Metrica_PitchControl)\n",
        "        alpha: alpha (transparency) of player markers. Default is 0.7\n",
        "        include_player_velocities: Boolean variable that determines whether player velocities are also plotted (as quivers). Default is False\n",
        "        annotate: Boolean variable that determines with player jersey numbers are added to the plot (default is False)\n",
        "        field_dimen: tuple containing the length and width of the pitch in meters. Default is (106,68)\n",
        "        \n",
        "    NB: this function no longer requires xgrid and ygrid as an input\n",
        "        \n",
        "    Returrns\n",
        "    -----------\n",
        "       fig,ax : figure and aixs objects (so that other data can be plotted onto the pitch)\n",
        "\n",
        "    \"\"\"    \n",
        "\n",
        "    # pick a pass at which to generate the pitch control surface\n",
        "    # pass_frame = events.loc[event_id]['Start Frame']\n",
        "    pass_frame = certain_frame\n",
        "    #pass_team = events.loc[event_id].Team\n",
        "    # either is ok\n",
        "    pass_team = 'Home'\n",
        "\n",
        "    # plot frame and event\n",
        "    fig,ax = plot_pitch(field_color='white', field_dimen = field_dimen)\n",
        "    plot_frame( tracking_home.loc[pass_frame], tracking_away.loc[pass_frame], figax=(fig,ax), PlayerAlpha=alpha, include_player_velocities=include_player_velocities, annotate=annotate )\n",
        "    #plot_events( events.loc[event_id:event_id], figax = (fig,ax), indicators = ['Marker','Arrow'], annotate=False, color= 'k', alpha=1 )\n",
        "    \n",
        "    # plot pitch control surface\n",
        "    if pass_team=='Home':\n",
        "        cmap = 'bwr'\n",
        "    else:\n",
        "        cmap = 'bwr_r'\n",
        "    ax.imshow(np.flipud(PPCF), extent=(-field_dimen[0]/2., field_dimen[0]/2., -field_dimen[1]/2., field_dimen[1]/2.),interpolation='spline36',vmin=0.0,vmax=1.0,cmap=cmap,alpha=0.5)\n",
        "\n",
        "    save_filename = '/content/PPCF_'+str(certain_frame)+'.png'\n",
        "    fig.savefig(save_filename)\n",
        "\n",
        "    return fig,ax\n",
        "\n",
        "\n",
        "def plot_pitch( field_dimen = (106.0,68.0), field_color ='green', linewidth=2, markersize=20):\n",
        "    \"\"\" plot_pitch\n",
        "    \n",
        "    Plots a soccer pitch. All distance units converted to meters.\n",
        "    \n",
        "    Parameters\n",
        "    -----------\n",
        "        field_dimen: (length, width) of field in meters. Default is (106,68)\n",
        "        field_color: color of field. options are {'green','white'}\n",
        "        linewidth  : width of lines. default = 2\n",
        "        markersize : size of markers (e.g. penalty spot, centre spot, posts). default = 20\n",
        "        \n",
        "    Returrns\n",
        "    -----------\n",
        "       fig,ax : figure and aixs objects (so that other data can be plotted onto the pitch)\n",
        "\n",
        "    \"\"\"\n",
        "    fig,ax = plt.subplots(figsize=(12,8)) # create a figure \n",
        "    # decide what color we want the field to be. Default is green, but can also choose white\n",
        "    if field_color=='green':\n",
        "        ax.set_facecolor('mediumseagreen')\n",
        "        lc = 'whitesmoke' # line color\n",
        "        pc = 'w' # 'spot' colors\n",
        "    elif field_color=='white':\n",
        "        lc = 'k'\n",
        "        pc = 'k'\n",
        "    # ALL DIMENSIONS IN m\n",
        "    border_dimen = (3,3) # include a border arround of the field of width 3m\n",
        "    meters_per_yard = 0.9144 # unit conversion from yards to meters\n",
        "    half_pitch_length = field_dimen[0]/2. # length of half pitch\n",
        "    half_pitch_width = field_dimen[1]/2. # width of half pitch\n",
        "    signs = [-1,1] \n",
        "    # Soccer field dimensions typically defined in yards, so we need to convert to meters\n",
        "    goal_line_width = 8*meters_per_yard\n",
        "    box_width = 20*meters_per_yard\n",
        "    box_length = 6*meters_per_yard\n",
        "    area_width = 44*meters_per_yard\n",
        "    area_length = 18*meters_per_yard\n",
        "    penalty_spot = 12*meters_per_yard\n",
        "    corner_radius = 1*meters_per_yard\n",
        "    D_length = 8*meters_per_yard\n",
        "    D_radius = 10*meters_per_yard\n",
        "    D_pos = 12*meters_per_yard\n",
        "    centre_circle_radius = 10*meters_per_yard\n",
        "    # plot half way line # center circle\n",
        "    ax.plot([0,0],[-half_pitch_width,half_pitch_width],lc,linewidth=linewidth)\n",
        "    ax.scatter(0.0,0.0,marker='o',facecolor=lc,linewidth=0,s=markersize)\n",
        "    y = np.linspace(-1,1,50)*centre_circle_radius\n",
        "    x = np.sqrt(centre_circle_radius**2-y**2)\n",
        "    ax.plot(x,y,lc,linewidth=linewidth)\n",
        "    ax.plot(-x,y,lc,linewidth=linewidth)\n",
        "    for s in signs: # plots each line seperately\n",
        "        # plot pitch boundary\n",
        "        ax.plot([-half_pitch_length,half_pitch_length],[s*half_pitch_width,s*half_pitch_width],lc,linewidth=linewidth)\n",
        "        ax.plot([s*half_pitch_length,s*half_pitch_length],[-half_pitch_width,half_pitch_width],lc,linewidth=linewidth)\n",
        "        # goal posts & line\n",
        "        ax.plot( [s*half_pitch_length,s*half_pitch_length],[-goal_line_width/2.,goal_line_width/2.],pc+'s',markersize=6*markersize/20.,linewidth=linewidth)\n",
        "        # 6 yard box\n",
        "        ax.plot([s*half_pitch_length,s*half_pitch_length-s*box_length],[box_width/2.,box_width/2.],lc,linewidth=linewidth)\n",
        "        ax.plot([s*half_pitch_length,s*half_pitch_length-s*box_length],[-box_width/2.,-box_width/2.],lc,linewidth=linewidth)\n",
        "        ax.plot([s*half_pitch_length-s*box_length,s*half_pitch_length-s*box_length],[-box_width/2.,box_width/2.],lc,linewidth=linewidth)\n",
        "        # penalty area\n",
        "        ax.plot([s*half_pitch_length,s*half_pitch_length-s*area_length],[area_width/2.,area_width/2.],lc,linewidth=linewidth)\n",
        "        ax.plot([s*half_pitch_length,s*half_pitch_length-s*area_length],[-area_width/2.,-area_width/2.],lc,linewidth=linewidth)\n",
        "        ax.plot([s*half_pitch_length-s*area_length,s*half_pitch_length-s*area_length],[-area_width/2.,area_width/2.],lc,linewidth=linewidth)\n",
        "        # penalty spot\n",
        "        ax.scatter(s*half_pitch_length-s*penalty_spot,0.0,marker='o',facecolor=lc,linewidth=0,s=markersize)\n",
        "        # corner flags\n",
        "        y = np.linspace(0,1,50)*corner_radius\n",
        "        x = np.sqrt(corner_radius**2-y**2)\n",
        "        ax.plot(s*half_pitch_length-s*x,-half_pitch_width+y,lc,linewidth=linewidth)\n",
        "        ax.plot(s*half_pitch_length-s*x,half_pitch_width-y,lc,linewidth=linewidth)\n",
        "        # draw the D\n",
        "        y = np.linspace(-1,1,50)*D_length # D_length is the chord of the circle that defines the D\n",
        "        x = np.sqrt(D_radius**2-y**2)+D_pos\n",
        "        ax.plot(s*half_pitch_length-s*x,y,lc,linewidth=linewidth)\n",
        "        \n",
        "    # remove axis labels and ticks\n",
        "    ax.set_xticklabels([])\n",
        "    ax.set_yticklabels([])\n",
        "    ax.set_xticks([])\n",
        "    ax.set_yticks([])\n",
        "    # set axis limits\n",
        "    xmax = field_dimen[0]/2. + border_dimen[0]\n",
        "    ymax = field_dimen[1]/2. + border_dimen[1]\n",
        "    ax.set_xlim([-xmax,xmax])\n",
        "    ax.set_ylim([-ymax,ymax])\n",
        "    ax.set_axisbelow(True)\n",
        "    return fig,ax\n",
        "\n",
        "\n",
        "def plot_frame( hometeam, awayteam, figax=None, team_colors=('r','b'), field_dimen = (106.0,68.0), include_player_velocities=False, PlayerMarkerSize=10, PlayerAlpha=0.7, annotate=False ):\n",
        "    \"\"\" plot_frame( hometeam, awayteam )\n",
        "    \n",
        "    Plots a frame of Metrica tracking data (player positions and the ball) on a football pitch. All distances should be in meters.\n",
        "    \n",
        "    Parameters\n",
        "    -----------\n",
        "        hometeam: row (i.e. instant) of the home team tracking data frame\n",
        "        awayteam: row of the away team tracking data frame\n",
        "        fig,ax: Can be used to pass in the (fig,ax) objects of a previously generated pitch. Set to (fig,ax) to use an existing figure, or None (the default) to generate a new pitch plot, \n",
        "        team_colors: Tuple containing the team colors of the home & away team. Default is 'r' (red, home team) and 'b' (blue away team)\n",
        "        field_dimen: tuple containing the length and width of the pitch in meters. Default is (106,68)\n",
        "        include_player_velocities: Boolean variable that determines whether player velocities are also plotted (as quivers). Default is False\n",
        "        PlayerMarkerSize: size of the individual player marlers. Default is 10\n",
        "        PlayerAlpha: alpha (transparency) of player markers. Defaault is 0.7\n",
        "        annotate: Boolean variable that determines with player jersey numbers are added to the plot (default is False)\n",
        "        \n",
        "    Returrns\n",
        "    -----------\n",
        "       fig,ax : figure and aixs objects (so that other data can be plotted onto the pitch)\n",
        "\n",
        "    \"\"\"\n",
        "    if figax is None: # create new pitch \n",
        "        fig,ax = plot_pitch( field_dimen = field_dimen )\n",
        "    else: # overlay on a previously generated pitch\n",
        "        fig,ax = figax # unpack tuple\n",
        "    # plot home & away teams in order\n",
        "    for team,color in zip( [hometeam,awayteam], team_colors) :\n",
        "        x_columns = [c for c in team.keys() if c[-2:].lower()=='_x' and c!='ball_x'] # column header for player x positions\n",
        "        y_columns = [c for c in team.keys() if c[-2:].lower()=='_y' and c!='ball_y'] # column header for player y positions\n",
        "        ax.plot( team[x_columns], team[y_columns], color+'o', MarkerSize=PlayerMarkerSize, alpha=PlayerAlpha ) # plot player positions\n",
        "        if include_player_velocities:\n",
        "            vx_columns = ['{}_vx'.format(c[:-2]) for c in x_columns] # column header for player x positions\n",
        "            vy_columns = ['{}_vy'.format(c[:-2]) for c in y_columns] # column header for player y positions\n",
        "            ax.quiver( team[x_columns], team[y_columns], team[vx_columns], team[vy_columns], color=color, scale_units='inches', scale=10.,width=0.0015,headlength=5,headwidth=3,alpha=PlayerAlpha)\n",
        "        if annotate:\n",
        "            [ ax.text( team[x]+0.5, team[y]+0.5, x.split('_')[1], fontsize=10, color=color  ) for x,y in zip(x_columns,y_columns) if not ( np.isnan(team[x]) or np.isnan(team[y]) ) ] \n",
        "    # plot ball\n",
        "    ax.plot( hometeam['ball_x'], hometeam['ball_y'], 'ko', MarkerSize=6, alpha=1.0, LineWidth=0)\n",
        "    return fig,ax"
      ]
    },
    {
      "cell_type": "code",
      "execution_count": null,
      "metadata": {
        "id": "4U0iFIkb1x_F"
      },
      "outputs": [],
      "source": []
    },
    {
      "cell_type": "markdown",
      "metadata": {
        "id": "p7bUtFX72L0-"
      },
      "source": [
        "# Visualize Pitch Controll\n",
        "\n"
      ]
    },
    {
      "cell_type": "code",
      "execution_count": null,
      "metadata": {
        "id": "yf6HMTq31xyX"
      },
      "outputs": [],
      "source": [
        "# first get pitch control model parameters\n",
        "params = mpc.default_model_params()\n",
        "\n",
        "# find goalkeepers for offside calculation\n",
        "GK_numbers = [find_goalkeeper(tracking_home),find_goalkeeper(tracking_away)]\n",
        "\n",
        "hilighted_event_id=820\n",
        "\n",
        "# evaluated pitch control surface for first pass\n",
        "PPCF,xgrid,ygrid = mpc.generate_pitch_control_for_event(hilighted_event_id, events, tracking_home, tracking_away, params, GK_numbers, field_dimen = (106.,68.,), n_grid_cells_x = 50)\n",
        "mviz.plot_pitchcontrol_for_event( hilighted_event_id, events,  tracking_home, tracking_away, PPCF, annotate=False )\n",
        "\n",
        "# evaluated pitch control per frame\n",
        "PPCF,xgrid,ygrid = generate_pitch_control_for_track(events.iloc[hilighted_event_id]['Start Frame'], tracking_home, tracking_away, params, GK_numbers, field_dimen = (106.,68.,), n_grid_cells_x = 50)\n",
        "plot_pitchcontrol_for_track( events.iloc[hilighted_event_id]['Start Frame'], tracking_home, tracking_away, PPCF, annotate=False )"
      ]
    },
    {
      "cell_type": "code",
      "execution_count": null,
      "metadata": {
        "id": "eJezcpOrXatc"
      },
      "outputs": [],
      "source": []
    },
    {
      "cell_type": "markdown",
      "metadata": {
        "id": "ppCYGGuhXaLI"
      },
      "source": [
        "# Scene extract"
      ]
    },
    {
      "cell_type": "markdown",
      "metadata": {
        "id": "zxubhw2Rp27s"
      },
      "source": [
        "## data run through "
      ]
    },
    {
      "cell_type": "code",
      "execution_count": null,
      "metadata": {
        "colab": {
          "base_uri": "https://localhost:8080/"
        },
        "id": "Cbjd73WfazTH",
        "outputId": "5f84cfb7-791f-4be0-a870-78d8ec96b013"
      },
      "outputs": [
        {
          "data": {
            "text/plain": [
              "Index(['Period', 'Time [s]', 'Home_11_x', 'Home_11_y', 'Home_1_x', 'Home_1_y',\n",
              "       'Home_2_x', 'Home_2_y', 'Home_3_x', 'Home_3_y', 'Home_4_x', 'Home_4_y',\n",
              "       'Home_5_x', 'Home_5_y', 'Home_6_x', 'Home_6_y', 'Home_7_x', 'Home_7_y',\n",
              "       'Home_8_x', 'Home_8_y', 'Home_9_x', 'Home_9_y', 'Home_10_x',\n",
              "       'Home_10_y', 'Home_12_x', 'Home_12_y', 'Home_13_x', 'Home_13_y',\n",
              "       'Home_14_x', 'Home_14_y', 'ball_x', 'ball_y', 'Home_1_vx', 'Home_1_vy',\n",
              "       'Home_1_speed', 'Home_10_vx', 'Home_10_vy', 'Home_10_speed',\n",
              "       'Home_11_vx', 'Home_11_vy', 'Home_11_speed', 'Home_12_vx', 'Home_12_vy',\n",
              "       'Home_12_speed', 'Home_13_vx', 'Home_13_vy', 'Home_13_speed',\n",
              "       'Home_14_vx', 'Home_14_vy', 'Home_14_speed', 'Home_2_vx', 'Home_2_vy',\n",
              "       'Home_2_speed', 'Home_3_vx', 'Home_3_vy', 'Home_3_speed', 'Home_4_vx',\n",
              "       'Home_4_vy', 'Home_4_speed', 'Home_5_vx', 'Home_5_vy', 'Home_5_speed',\n",
              "       'Home_6_vx', 'Home_6_vy', 'Home_6_speed', 'Home_7_vx', 'Home_7_vy',\n",
              "       'Home_7_speed', 'Home_8_vx', 'Home_8_vy', 'Home_8_speed', 'Home_9_vx',\n",
              "       'Home_9_vy', 'Home_9_speed'],\n",
              "      dtype='object')"
            ]
          },
          "execution_count": 30,
          "metadata": {},
          "output_type": "execute_result"
        }
      ],
      "source": [
        "tracking_home.columns"
      ]
    },
    {
      "cell_type": "code",
      "execution_count": null,
      "metadata": {
        "colab": {
          "base_uri": "https://localhost:8080/",
          "height": 254
        },
        "id": "NCiGjrURfRZi",
        "outputId": "2163a408-e505-43cb-d629-72883f6fa7fc"
      },
      "outputs": [
        {
          "data": {
            "text/html": [
              "\n",
              "  <div id=\"df-431e521d-a3a4-473f-af55-9c737896acf6\">\n",
              "    <div class=\"colab-df-container\">\n",
              "      <div>\n",
              "<style scoped>\n",
              "    .dataframe tbody tr th:only-of-type {\n",
              "        vertical-align: middle;\n",
              "    }\n",
              "\n",
              "    .dataframe tbody tr th {\n",
              "        vertical-align: top;\n",
              "    }\n",
              "\n",
              "    .dataframe thead th {\n",
              "        text-align: right;\n",
              "    }\n",
              "</style>\n",
              "<table border=\"1\" class=\"dataframe\">\n",
              "  <thead>\n",
              "    <tr style=\"text-align: right;\">\n",
              "      <th></th>\n",
              "      <th>Period</th>\n",
              "      <th>Time [s]</th>\n",
              "      <th>Home_11_x</th>\n",
              "      <th>Home_11_y</th>\n",
              "      <th>Home_1_x</th>\n",
              "      <th>Home_1_y</th>\n",
              "      <th>Home_2_x</th>\n",
              "      <th>Home_2_y</th>\n",
              "      <th>Home_3_x</th>\n",
              "      <th>Home_3_y</th>\n",
              "      <th>...</th>\n",
              "      <th>Home_6_speed</th>\n",
              "      <th>Home_7_vx</th>\n",
              "      <th>Home_7_vy</th>\n",
              "      <th>Home_7_speed</th>\n",
              "      <th>Home_8_vx</th>\n",
              "      <th>Home_8_vy</th>\n",
              "      <th>Home_8_speed</th>\n",
              "      <th>Home_9_vx</th>\n",
              "      <th>Home_9_vy</th>\n",
              "      <th>Home_9_speed</th>\n",
              "    </tr>\n",
              "    <tr>\n",
              "      <th>Frame</th>\n",
              "      <th></th>\n",
              "      <th></th>\n",
              "      <th></th>\n",
              "      <th></th>\n",
              "      <th></th>\n",
              "      <th></th>\n",
              "      <th></th>\n",
              "      <th></th>\n",
              "      <th></th>\n",
              "      <th></th>\n",
              "      <th></th>\n",
              "      <th></th>\n",
              "      <th></th>\n",
              "      <th></th>\n",
              "      <th></th>\n",
              "      <th></th>\n",
              "      <th></th>\n",
              "      <th></th>\n",
              "      <th></th>\n",
              "      <th></th>\n",
              "      <th></th>\n",
              "    </tr>\n",
              "  </thead>\n",
              "  <tbody>\n",
              "    <tr>\n",
              "      <th>1</th>\n",
              "      <td>1</td>\n",
              "      <td>0.04</td>\n",
              "      <td>-52.91308</td>\n",
              "      <td>1.19816</td>\n",
              "      <td>-18.39312</td>\n",
              "      <td>-10.41896</td>\n",
              "      <td>-17.27694</td>\n",
              "      <td>0.77316</td>\n",
              "      <td>-20.21738</td>\n",
              "      <td>9.84028</td>\n",
              "      <td>...</td>\n",
              "      <td>NaN</td>\n",
              "      <td>NaN</td>\n",
              "      <td>NaN</td>\n",
              "      <td>NaN</td>\n",
              "      <td>NaN</td>\n",
              "      <td>NaN</td>\n",
              "      <td>NaN</td>\n",
              "      <td>NaN</td>\n",
              "      <td>NaN</td>\n",
              "      <td>NaN</td>\n",
              "    </tr>\n",
              "    <tr>\n",
              "      <th>2</th>\n",
              "      <td>1</td>\n",
              "      <td>0.08</td>\n",
              "      <td>-52.89824</td>\n",
              "      <td>1.19816</td>\n",
              "      <td>-18.39312</td>\n",
              "      <td>-10.41896</td>\n",
              "      <td>-17.27694</td>\n",
              "      <td>0.77316</td>\n",
              "      <td>-20.21738</td>\n",
              "      <td>9.84028</td>\n",
              "      <td>...</td>\n",
              "      <td>NaN</td>\n",
              "      <td>NaN</td>\n",
              "      <td>NaN</td>\n",
              "      <td>NaN</td>\n",
              "      <td>NaN</td>\n",
              "      <td>NaN</td>\n",
              "      <td>NaN</td>\n",
              "      <td>NaN</td>\n",
              "      <td>NaN</td>\n",
              "      <td>NaN</td>\n",
              "    </tr>\n",
              "  </tbody>\n",
              "</table>\n",
              "<p>2 rows × 74 columns</p>\n",
              "</div>\n",
              "      <button class=\"colab-df-convert\" onclick=\"convertToInteractive('df-431e521d-a3a4-473f-af55-9c737896acf6')\"\n",
              "              title=\"Convert this dataframe to an interactive table.\"\n",
              "              style=\"display:none;\">\n",
              "        \n",
              "  <svg xmlns=\"http://www.w3.org/2000/svg\" height=\"24px\"viewBox=\"0 0 24 24\"\n",
              "       width=\"24px\">\n",
              "    <path d=\"M0 0h24v24H0V0z\" fill=\"none\"/>\n",
              "    <path d=\"M18.56 5.44l.94 2.06.94-2.06 2.06-.94-2.06-.94-.94-2.06-.94 2.06-2.06.94zm-11 1L8.5 8.5l.94-2.06 2.06-.94-2.06-.94L8.5 2.5l-.94 2.06-2.06.94zm10 10l.94 2.06.94-2.06 2.06-.94-2.06-.94-.94-2.06-.94 2.06-2.06.94z\"/><path d=\"M17.41 7.96l-1.37-1.37c-.4-.4-.92-.59-1.43-.59-.52 0-1.04.2-1.43.59L10.3 9.45l-7.72 7.72c-.78.78-.78 2.05 0 2.83L4 21.41c.39.39.9.59 1.41.59.51 0 1.02-.2 1.41-.59l7.78-7.78 2.81-2.81c.8-.78.8-2.07 0-2.86zM5.41 20L4 18.59l7.72-7.72 1.47 1.35L5.41 20z\"/>\n",
              "  </svg>\n",
              "      </button>\n",
              "      \n",
              "  <style>\n",
              "    .colab-df-container {\n",
              "      display:flex;\n",
              "      flex-wrap:wrap;\n",
              "      gap: 12px;\n",
              "    }\n",
              "\n",
              "    .colab-df-convert {\n",
              "      background-color: #E8F0FE;\n",
              "      border: none;\n",
              "      border-radius: 50%;\n",
              "      cursor: pointer;\n",
              "      display: none;\n",
              "      fill: #1967D2;\n",
              "      height: 32px;\n",
              "      padding: 0 0 0 0;\n",
              "      width: 32px;\n",
              "    }\n",
              "\n",
              "    .colab-df-convert:hover {\n",
              "      background-color: #E2EBFA;\n",
              "      box-shadow: 0px 1px 2px rgba(60, 64, 67, 0.3), 0px 1px 3px 1px rgba(60, 64, 67, 0.15);\n",
              "      fill: #174EA6;\n",
              "    }\n",
              "\n",
              "    [theme=dark] .colab-df-convert {\n",
              "      background-color: #3B4455;\n",
              "      fill: #D2E3FC;\n",
              "    }\n",
              "\n",
              "    [theme=dark] .colab-df-convert:hover {\n",
              "      background-color: #434B5C;\n",
              "      box-shadow: 0px 1px 3px 1px rgba(0, 0, 0, 0.15);\n",
              "      filter: drop-shadow(0px 1px 2px rgba(0, 0, 0, 0.3));\n",
              "      fill: #FFFFFF;\n",
              "    }\n",
              "  </style>\n",
              "\n",
              "      <script>\n",
              "        const buttonEl =\n",
              "          document.querySelector('#df-431e521d-a3a4-473f-af55-9c737896acf6 button.colab-df-convert');\n",
              "        buttonEl.style.display =\n",
              "          google.colab.kernel.accessAllowed ? 'block' : 'none';\n",
              "\n",
              "        async function convertToInteractive(key) {\n",
              "          const element = document.querySelector('#df-431e521d-a3a4-473f-af55-9c737896acf6');\n",
              "          const dataTable =\n",
              "            await google.colab.kernel.invokeFunction('convertToInteractive',\n",
              "                                                     [key], {});\n",
              "          if (!dataTable) return;\n",
              "\n",
              "          const docLinkHtml = 'Like what you see? Visit the ' +\n",
              "            '<a target=\"_blank\" href=https://colab.research.google.com/notebooks/data_table.ipynb>data table notebook</a>'\n",
              "            + ' to learn more about interactive tables.';\n",
              "          element.innerHTML = '';\n",
              "          dataTable['output_type'] = 'display_data';\n",
              "          await google.colab.output.renderOutput(dataTable, element);\n",
              "          const docLink = document.createElement('div');\n",
              "          docLink.innerHTML = docLinkHtml;\n",
              "          element.appendChild(docLink);\n",
              "        }\n",
              "      </script>\n",
              "    </div>\n",
              "  </div>\n",
              "  "
            ],
            "text/plain": [
              "       Period  Time [s]  Home_11_x  Home_11_y  Home_1_x  Home_1_y  Home_2_x  \\\n",
              "Frame                                                                         \n",
              "1           1      0.04  -52.91308    1.19816 -18.39312 -10.41896 -17.27694   \n",
              "2           1      0.08  -52.89824    1.19816 -18.39312 -10.41896 -17.27694   \n",
              "\n",
              "       Home_2_y  Home_3_x  Home_3_y  ...  Home_6_speed  Home_7_vx  Home_7_vy  \\\n",
              "Frame                                ...                                       \n",
              "1       0.77316 -20.21738   9.84028  ...           NaN        NaN        NaN   \n",
              "2       0.77316 -20.21738   9.84028  ...           NaN        NaN        NaN   \n",
              "\n",
              "       Home_7_speed  Home_8_vx  Home_8_vy  Home_8_speed  Home_9_vx  Home_9_vy  \\\n",
              "Frame                                                                           \n",
              "1               NaN        NaN        NaN           NaN        NaN        NaN   \n",
              "2               NaN        NaN        NaN           NaN        NaN        NaN   \n",
              "\n",
              "       Home_9_speed  \n",
              "Frame                \n",
              "1               NaN  \n",
              "2               NaN  \n",
              "\n",
              "[2 rows x 74 columns]"
            ]
          },
          "execution_count": 51,
          "metadata": {},
          "output_type": "execute_result"
        }
      ],
      "source": [
        "tracking_home.head(2)"
      ]
    },
    {
      "cell_type": "code",
      "execution_count": null,
      "metadata": {
        "id": "_wvPm5eZXbw3"
      },
      "outputs": [],
      "source": [
        "## Tracking data plot\n",
        "pd.set_option('display.max_rows', None)\n",
        "# print(tracking_home.isnull().sum())\n",
        "\n",
        "fig,ax = plt.subplots(figsize=(15,8))\n",
        "for i in range(14):\n",
        "  y_str = 'Home_'+str(i+1)+'_x'\n",
        "  plt.plot(tracking_home['Time [s]'], tracking_home[y_str]+np.ones(len(tracking_home[y_str]))*100*i)\n",
        "\n",
        "plt.plot(tracking_home['Time [s]'], tracking_home['ball_x']+np.ones(len(tracking_home[y_str]))*100*15)"
      ]
    },
    {
      "cell_type": "code",
      "execution_count": null,
      "metadata": {
        "colab": {
          "base_uri": "https://localhost:8080/",
          "height": 112
        },
        "id": "znMpOnpTXbtD",
        "outputId": "91cd4216-47f0-4a6e-efac-4f6415047291"
      },
      "outputs": [
        {
          "data": {
            "text/html": [
              "\n",
              "  <div id=\"df-a5bd533d-27f0-4544-86ab-853484cf56b7\">\n",
              "    <div class=\"colab-df-container\">\n",
              "      <div>\n",
              "<style scoped>\n",
              "    .dataframe tbody tr th:only-of-type {\n",
              "        vertical-align: middle;\n",
              "    }\n",
              "\n",
              "    .dataframe tbody tr th {\n",
              "        vertical-align: top;\n",
              "    }\n",
              "\n",
              "    .dataframe thead th {\n",
              "        text-align: right;\n",
              "    }\n",
              "</style>\n",
              "<table border=\"1\" class=\"dataframe\">\n",
              "  <thead>\n",
              "    <tr style=\"text-align: right;\">\n",
              "      <th></th>\n",
              "      <th>Team</th>\n",
              "      <th>Type</th>\n",
              "      <th>Subtype</th>\n",
              "      <th>Period</th>\n",
              "      <th>Start Frame</th>\n",
              "      <th>Start Time [s]</th>\n",
              "      <th>End Frame</th>\n",
              "      <th>End Time [s]</th>\n",
              "      <th>From</th>\n",
              "      <th>To</th>\n",
              "      <th>Start X</th>\n",
              "      <th>Start Y</th>\n",
              "      <th>End X</th>\n",
              "      <th>End Y</th>\n",
              "    </tr>\n",
              "  </thead>\n",
              "  <tbody>\n",
              "    <tr>\n",
              "      <th>0</th>\n",
              "      <td>Away</td>\n",
              "      <td>SET PIECE</td>\n",
              "      <td>KICK OFF</td>\n",
              "      <td>1</td>\n",
              "      <td>1</td>\n",
              "      <td>0.04</td>\n",
              "      <td>0</td>\n",
              "      <td>0.00</td>\n",
              "      <td>Player19</td>\n",
              "      <td>NaN</td>\n",
              "      <td>NaN</td>\n",
              "      <td>NaN</td>\n",
              "      <td>NaN</td>\n",
              "      <td>NaN</td>\n",
              "    </tr>\n",
              "    <tr>\n",
              "      <th>1</th>\n",
              "      <td>Away</td>\n",
              "      <td>PASS</td>\n",
              "      <td>NaN</td>\n",
              "      <td>1</td>\n",
              "      <td>1</td>\n",
              "      <td>0.04</td>\n",
              "      <td>3</td>\n",
              "      <td>0.12</td>\n",
              "      <td>Player19</td>\n",
              "      <td>Player21</td>\n",
              "      <td>-5.3</td>\n",
              "      <td>7.48</td>\n",
              "      <td>5.3</td>\n",
              "      <td>4.76</td>\n",
              "    </tr>\n",
              "  </tbody>\n",
              "</table>\n",
              "</div>\n",
              "      <button class=\"colab-df-convert\" onclick=\"convertToInteractive('df-a5bd533d-27f0-4544-86ab-853484cf56b7')\"\n",
              "              title=\"Convert this dataframe to an interactive table.\"\n",
              "              style=\"display:none;\">\n",
              "        \n",
              "  <svg xmlns=\"http://www.w3.org/2000/svg\" height=\"24px\"viewBox=\"0 0 24 24\"\n",
              "       width=\"24px\">\n",
              "    <path d=\"M0 0h24v24H0V0z\" fill=\"none\"/>\n",
              "    <path d=\"M18.56 5.44l.94 2.06.94-2.06 2.06-.94-2.06-.94-.94-2.06-.94 2.06-2.06.94zm-11 1L8.5 8.5l.94-2.06 2.06-.94-2.06-.94L8.5 2.5l-.94 2.06-2.06.94zm10 10l.94 2.06.94-2.06 2.06-.94-2.06-.94-.94-2.06-.94 2.06-2.06.94z\"/><path d=\"M17.41 7.96l-1.37-1.37c-.4-.4-.92-.59-1.43-.59-.52 0-1.04.2-1.43.59L10.3 9.45l-7.72 7.72c-.78.78-.78 2.05 0 2.83L4 21.41c.39.39.9.59 1.41.59.51 0 1.02-.2 1.41-.59l7.78-7.78 2.81-2.81c.8-.78.8-2.07 0-2.86zM5.41 20L4 18.59l7.72-7.72 1.47 1.35L5.41 20z\"/>\n",
              "  </svg>\n",
              "      </button>\n",
              "      \n",
              "  <style>\n",
              "    .colab-df-container {\n",
              "      display:flex;\n",
              "      flex-wrap:wrap;\n",
              "      gap: 12px;\n",
              "    }\n",
              "\n",
              "    .colab-df-convert {\n",
              "      background-color: #E8F0FE;\n",
              "      border: none;\n",
              "      border-radius: 50%;\n",
              "      cursor: pointer;\n",
              "      display: none;\n",
              "      fill: #1967D2;\n",
              "      height: 32px;\n",
              "      padding: 0 0 0 0;\n",
              "      width: 32px;\n",
              "    }\n",
              "\n",
              "    .colab-df-convert:hover {\n",
              "      background-color: #E2EBFA;\n",
              "      box-shadow: 0px 1px 2px rgba(60, 64, 67, 0.3), 0px 1px 3px 1px rgba(60, 64, 67, 0.15);\n",
              "      fill: #174EA6;\n",
              "    }\n",
              "\n",
              "    [theme=dark] .colab-df-convert {\n",
              "      background-color: #3B4455;\n",
              "      fill: #D2E3FC;\n",
              "    }\n",
              "\n",
              "    [theme=dark] .colab-df-convert:hover {\n",
              "      background-color: #434B5C;\n",
              "      box-shadow: 0px 1px 3px 1px rgba(0, 0, 0, 0.15);\n",
              "      filter: drop-shadow(0px 1px 2px rgba(0, 0, 0, 0.3));\n",
              "      fill: #FFFFFF;\n",
              "    }\n",
              "  </style>\n",
              "\n",
              "      <script>\n",
              "        const buttonEl =\n",
              "          document.querySelector('#df-a5bd533d-27f0-4544-86ab-853484cf56b7 button.colab-df-convert');\n",
              "        buttonEl.style.display =\n",
              "          google.colab.kernel.accessAllowed ? 'block' : 'none';\n",
              "\n",
              "        async function convertToInteractive(key) {\n",
              "          const element = document.querySelector('#df-a5bd533d-27f0-4544-86ab-853484cf56b7');\n",
              "          const dataTable =\n",
              "            await google.colab.kernel.invokeFunction('convertToInteractive',\n",
              "                                                     [key], {});\n",
              "          if (!dataTable) return;\n",
              "\n",
              "          const docLinkHtml = 'Like what you see? Visit the ' +\n",
              "            '<a target=\"_blank\" href=https://colab.research.google.com/notebooks/data_table.ipynb>data table notebook</a>'\n",
              "            + ' to learn more about interactive tables.';\n",
              "          element.innerHTML = '';\n",
              "          dataTable['output_type'] = 'display_data';\n",
              "          await google.colab.output.renderOutput(dataTable, element);\n",
              "          const docLink = document.createElement('div');\n",
              "          docLink.innerHTML = docLinkHtml;\n",
              "          element.appendChild(docLink);\n",
              "        }\n",
              "      </script>\n",
              "    </div>\n",
              "  </div>\n",
              "  "
            ],
            "text/plain": [
              "   Team       Type   Subtype  Period  Start Frame  Start Time [s]  End Frame  \\\n",
              "0  Away  SET PIECE  KICK OFF       1            1            0.04          0   \n",
              "1  Away       PASS       NaN       1            1            0.04          3   \n",
              "\n",
              "   End Time [s]      From        To  Start X  Start Y  End X  End Y  \n",
              "0          0.00  Player19       NaN      NaN      NaN    NaN    NaN  \n",
              "1          0.12  Player19  Player21     -5.3     7.48    5.3   4.76  "
            ]
          },
          "execution_count": 50,
          "metadata": {},
          "output_type": "execute_result"
        }
      ],
      "source": [
        "events.head(2)"
      ]
    },
    {
      "cell_type": "code",
      "execution_count": null,
      "metadata": {
        "id": "ZghPD0ZMXbmG"
      },
      "outputs": [],
      "source": [
        "Event_type_list = events.Type.unique().tolist()\n",
        "print(Event_type_list)\n",
        "\n",
        "fig,ax = plt.subplots(figsize=(15,8))\n",
        "\n",
        "for i,j in enumerate(Event_type_list):\n",
        "\n",
        "  plt.plot(events[events['Type']==j]['Start Time [s]'],events[events['Type']==j]['Start X']+np.ones(len(events[events['Type']==j]['Start X']))*100*i,'*',label=j)  \n",
        "\n",
        "plt.legend(loc=\"upper left\", bbox_to_anchor=(1.02, 1.0,))"
      ]
    },
    {
      "cell_type": "code",
      "execution_count": null,
      "metadata": {
        "id": "T6Z7E_bSXbe6"
      },
      "outputs": [],
      "source": [
        "plt.plot(tracking_home['Time [s]'], tracking_home['Home_11_x'],label='x')\n",
        "plt.plot(tracking_home['Time [s]'], tracking_home['Home_11_y'],label='y')\n",
        "plt.legend()"
      ]
    },
    {
      "cell_type": "code",
      "execution_count": null,
      "metadata": {
        "id": "JX-PQa_UXbbL"
      },
      "outputs": [],
      "source": [
        "plt.plot(tracking_away['Time [s]'], tracking_away['Away_25_x'],label='x')\n",
        "plt.plot(tracking_away['Time [s]'], tracking_away['Away_25_y'],label='y')\n",
        "plt.legend()"
      ]
    },
    {
      "cell_type": "code",
      "execution_count": null,
      "metadata": {
        "id": "wL_oNBdvoQz7"
      },
      "outputs": [],
      "source": [
        "tracking_away.columns"
      ]
    },
    {
      "cell_type": "code",
      "execution_count": null,
      "metadata": {
        "id": "8oPupI5BXbX5"
      },
      "outputs": [],
      "source": [
        "## Tracking data plot\n",
        "pd.set_option('display.max_rows', None)\n",
        "# print(tracking_home.isnull().sum())\n",
        "\n",
        "fig,ax = plt.subplots(figsize=(15,8))\n",
        "for i in range(14,28):\n",
        "  y_str = 'Away_'+str(i+1)+'_x'\n",
        "  plt.plot(tracking_away['Time [s]'], tracking_away[y_str]+np.ones(len(tracking_away[y_str]))*100*i,label=y_str)\n",
        "\n",
        "plt.plot(tracking_away['Time [s]'], tracking_away['ball_x']+np.ones(len(tracking_away[y_str]))*100*(29),label='ball')\n",
        "\n",
        "plt.legend(loc=\"upper left\", bbox_to_anchor=(1.02, 1.0,))"
      ]
    },
    {
      "cell_type": "code",
      "execution_count": null,
      "metadata": {
        "id": "MjKhuMB4pxuI"
      },
      "outputs": [],
      "source": []
    },
    {
      "cell_type": "markdown",
      "metadata": {
        "id": "WnbnEgFZpxe4"
      },
      "source": [
        "## Long counter "
      ]
    },
    {
      "cell_type": "markdown",
      "metadata": {
        "id": "2gkwrwbMDSFs"
      },
      "source": [
        "## Rule consideration"
      ]
    },
    {
      "cell_type": "code",
      "execution_count": null,
      "metadata": {
        "id": "9NzXesAYpyTf"
      },
      "outputs": [],
      "source": [
        "# How to extract long counter?\n",
        "\n",
        "# Define a timewindow\n",
        "# fps_demo = 25\n",
        "# search_window_time = 10 # [s] \n",
        "# search_window_frame = search_window_time*fps_demo\n",
        "search_window_frame = 15*25 # 15[s]*25 [fps]\n",
        "windows_start = 6700\n",
        "windows_end = windows_start+search_window_frame\n",
        "\n",
        "# Visualize ball track\n",
        "fig,ax = plt.subplots(figsize=(20,4))\n",
        "ax.plot(tracking_home[windows_start:windows_end].index,tracking_home[windows_start:windows_end]['ball_x'],'-*')\n",
        "ax.axvspan(windows_start, windows_end, color='red', alpha=0.5)\n",
        "\n",
        "fig,ax = plt.subplots(figsize=(20,4))\n",
        "ax.plot(tracking_home[:15000].index,tracking_home[:15000]['ball_x'])\n",
        "ax.axvspan(windows_start, windows_end, color='red', alpha=0.5)\n",
        "\n",
        "# Set a rule -30 to 30 , maxidx-minidx<0\n",
        "print(tracking_home[windows_start:windows_end]['ball_x'].min())\n",
        "print(tracking_home[windows_start:windows_end]['ball_x'].max())\n",
        "print(tracking_home[windows_start:windows_end]['ball_x'].idxmin())\n",
        "print(tracking_home[windows_start:windows_end]['ball_x'].idxmax())\n",
        "print('Positive = defence: ',tracking_home[windows_start:windows_end]['ball_x'].idxmax()-tracking_home[windows_start:windows_end]['ball_x'].idxmin())\n"
      ]
    },
    {
      "cell_type": "code",
      "execution_count": null,
      "metadata": {
        "id": "Y0T_-nzlC25N"
      },
      "outputs": [],
      "source": [
        "time_list = tracking_home['Time [s]'].tolist()\n",
        "frame_list = tracking_home.index.tolist()\n",
        "counter_flag_list=[]\n",
        "window_min_list=[]\n",
        "window_max_list=[]\n",
        "\n",
        "for i,frame_value in enumerate(frame_list):\n",
        "  windows_start = frame_value\n",
        "  windows_end = windows_start+search_window_frame\n",
        "\n",
        "  min_threshold = -40\n",
        "  max_threshold = 40\n",
        "  threshold = 60\n",
        "\n",
        "  if(tracking_home[windows_start:windows_end]['ball_x'].min()<min_threshold) and (tracking_home[windows_start:windows_end]['ball_x'].max()>max_threshold) and (tracking_home[windows_start:windows_end]['ball_x'].idxmax()-tracking_home[windows_start:windows_end]['ball_x'].idxmin())<0:\n",
        "  # if(tracking_home[windows_start:windows_end]['ball_x'].max()-tracking_home[windows_start:windows_end]['ball_x'].min()>threshold) and (tracking_home[windows_start:windows_end]['ball_x'].idxmax()-tracking_home[windows_start:windows_end]['ball_x'].idxmin())>0:\n",
        "    counter_flag_list.append(1)\n",
        "    window_min_list.append(tracking_home[windows_start:windows_end]['ball_x'].min())\n",
        "    window_max_list.append(tracking_home[windows_start:windows_end]['ball_x'].max())\n",
        "    \n",
        "  else:\n",
        "    counter_flag_list.append(0)\n",
        "    window_min_list.append(tracking_home[windows_start:windows_end]['ball_x'].min())\n",
        "    window_max_list.append(tracking_home[windows_start:windows_end]['ball_x'].max())\n",
        "\n"
      ]
    },
    {
      "cell_type": "code",
      "execution_count": null,
      "metadata": {
        "id": "_CwVT_5sDPKb"
      },
      "outputs": [],
      "source": []
    },
    {
      "cell_type": "markdown",
      "metadata": {
        "id": "z_pIUGN-DX2K"
      },
      "source": [
        "## Visualize methods and results"
      ]
    },
    {
      "cell_type": "code",
      "execution_count": null,
      "metadata": {
        "colab": {
          "base_uri": "https://localhost:8080/"
        },
        "id": "iaRx63N6ZnJc",
        "outputId": "1af61098-2cb3-4fdc-aa15-2fadc017647a"
      },
      "outputs": [
        {
          "data": {
            "text/plain": [
              "array([0, 1])"
            ]
          },
          "execution_count": 299,
          "metadata": {},
          "output_type": "execute_result"
        }
      ],
      "source": [
        "from scipy.signal import argrelextrema\n",
        "from scipy.signal import find_peaks\n",
        "df_pattern['counter_flag'].unique()"
      ]
    },
    {
      "cell_type": "code",
      "execution_count": null,
      "metadata": {
        "colab": {
          "base_uri": "https://localhost:8080/"
        },
        "id": "YOf4yLcEgQ0t",
        "outputId": "eded8d24-843b-43b6-e8f8-da6411d34bfc"
      },
      "outputs": [
        {
          "data": {
            "text/plain": [
              "145006"
            ]
          },
          "execution_count": 301,
          "metadata": {},
          "output_type": "execute_result"
        }
      ],
      "source": [
        "tracking_home.shape[0]"
      ]
    },
    {
      "cell_type": "code",
      "execution_count": null,
      "metadata": {
        "id": "nZ-9ECPmDc1x"
      },
      "outputs": [],
      "source": [
        "df_pattern = pd.DataFrame(list(zip(frame_list,time_list,counter_flag_list,window_min_list,window_max_list)),columns=['frame','time','counter_flag','window_min','window_max'])\n",
        "df_pattern['ball_dif'] =df_pattern['window_max'] -df_pattern['window_min']  \n",
        "df_pattern['counte_flag_rolling_10seconds'] = df_pattern['counter_flag'].rolling(25*10).mean()\n",
        "peaks, _ = find_peaks(df_pattern['counte_flag_rolling_10seconds'], height=0)\n",
        "print(peaks)\n",
        "\n",
        "# Event detection\n",
        "fig,ax = plt.subplots(figsize=(20,4))\n",
        "df_pattern.plot(x='frame',y='counter_flag',ax=ax,style='-',color='red')\n",
        "df_pattern.plot(x='frame',y='counte_flag_rolling_10seconds',ax=ax,style='-',color='green')\n",
        "ax.scatter(peaks,df_pattern['counte_flag_rolling_10seconds'][peaks],linewidth=0.3, s=100, c='b')\n",
        "ax.set_xlim(1,tracking_home.shape[0])\n",
        "\n",
        "fig,ax = plt.subplots(figsize=(20,4))\n",
        "ax.plot(tracking_home.index,tracking_home['ball_x'])\n",
        "for peaks_idx in peaks:\n",
        "  ax.axvspan(peaks_idx-round(search_window_frame/2), peaks_idx+round(search_window_frame/2), color='red', alpha=0.5)\n",
        "ax.set_xlim(1,tracking_home.shape[0])"
      ]
    },
    {
      "cell_type": "markdown",
      "metadata": {
        "id": "49MVHQB3dRXK"
      },
      "source": [
        "## Picking up movies automatically"
      ]
    },
    {
      "cell_type": "code",
      "execution_count": null,
      "metadata": {
        "colab": {
          "base_uri": "https://localhost:8080/"
        },
        "id": "-kpe7o58VWmC",
        "outputId": "d7668107-6325-41b1-f24c-2c2700253f08"
      },
      "outputs": [
        {
          "name": "stdout",
          "output_type": "stream",
          "text": [
            "Generating movie...done\n",
            "Generating movie...done\n",
            "Generating movie...done\n",
            "Generating movie...done\n",
            "Generating movie...done\n"
          ]
        }
      ],
      "source": [
        "# \n",
        "# 9228, 13507, 102571\n",
        "\n",
        "for slice_frame in peaks:\n",
        "  movie_length = 20\n",
        "  output_file_name = 'Slice_'+str(slice_frame)+'th_frame'\n",
        "  mviz.save_match_clip(tracking_home[slice_frame-25*5:slice_frame+25*movie_length],tracking_away[slice_frame-25*5:slice_frame+25*movie_length], '/content', fname=output_file_name, figax=None, frames_per_second=25, team_colors=('r','b'), field_dimen = (106.0,68.0), include_player_velocities=True, PlayerMarkerSize=10, PlayerAlpha=0.7)"
      ]
    },
    {
      "cell_type": "code",
      "execution_count": null,
      "metadata": {
        "id": "XUSG8O8JgsoQ"
      },
      "outputs": [],
      "source": [
        "# Pick up one for creating png figures per slice\n",
        "nth=0\n",
        "\n",
        "for i in range(peaks[nth]-25*5,peaks[nth]+25*movie_length):\n",
        "  # evaluated pitch control per frame\n",
        "  print(i+1)\n",
        "  PPCF,xgrid,ygrid = generate_pitch_control_for_track(i+1, tracking_home, tracking_away, params, GK_numbers, field_dimen = (106.,68.,), n_grid_cells_x = 50)\n",
        "  plot_pitchcontrol_for_track( i+1, tracking_home, tracking_away, PPCF, annotate=False )"
      ]
    },
    {
      "cell_type": "code",
      "execution_count": null,
      "metadata": {
        "id": "fQhA9vGkiyxw"
      },
      "outputs": [],
      "source": [
        "# Merging all png figures to a movie\n",
        "import cv2\n",
        "import numpy as np\n",
        "\n",
        "width=864\n",
        "height=576\n",
        "fps=25\n",
        "\n",
        "# choose codec according to format needed\n",
        "fourcc = cv2.VideoWriter_fourcc(*'mp4v') \n",
        "video = cv2.VideoWriter('/content/PPCF_Counter.avi', fourcc, fps, (width, height))\n",
        "\n",
        "\n",
        "# for i in range(start_frame-1,end_frame):\n",
        "for i in range(peaks[nth]-25*5,peaks[nth]+25*movie_length):\n",
        "    img = cv2.imread('/content/PPCF_'+str(i+1)+'.png')\n",
        "    video.write(img)\n",
        "\n",
        "cv2.destroyAllWindows()\n",
        "video.release()"
      ]
    },
    {
      "cell_type": "code",
      "execution_count": null,
      "metadata": {
        "id": "0eEDdj4csaAY"
      },
      "outputs": [],
      "source": [
        "from google.colab import drive\n",
        "drive.mount('/content/drive')"
      ]
    },
    {
      "cell_type": "code",
      "execution_count": null,
      "metadata": {
        "id": "CM7DeYFDqdJV"
      },
      "outputs": [],
      "source": [
        "# # importing movie py libraries\n",
        "# from moviepy.editor import VideoClip\n",
        "# from moviepy.video.io.bindings import mplfig_to_npimage\n",
        "\n",
        "# #coding:utf-8 importing for pasting an pitch image\n",
        "# from PIL import Image\n",
        "# import matplotlib.pyplot as plt\n",
        "# import numpy as np\n",
        "\n",
        "# # duration of the video\n",
        "# duration = 60\n",
        "\n",
        "# fig,ax = plt.subplots(figsize=(20,4))\n",
        "\n",
        "# # method to get frames\n",
        "# def make_frame(t):\n",
        "#   # clear\n",
        "#   ax.clear()\n",
        "\n",
        "#   windows_start_time = t*10\n",
        "#   windows_end_time = windows_start_time+search_window_time\n",
        "#   ax.plot(tracking_home[:10*60*25]['Time [s]'],tracking_home[:10*60*25]['ball_x'])\n",
        "#   ax.axvspan(windows_start_time, windows_end_time, color='red', alpha=0.5)\n",
        "\n",
        "#   # returning numpy image\n",
        "#   return mplfig_to_npimage(fig)\n",
        "\n",
        "# # creating animation\n",
        "# animation = VideoClip(make_frame, duration = duration)\n",
        "\n",
        "# # displaying animation with auto play and looping\n",
        "# animation.ipython_display(fps = 5, loop = True, autoplay = True)"
      ]
    },
    {
      "cell_type": "code",
      "execution_count": null,
      "metadata": {
        "id": "cV5bT4UsyFqz"
      },
      "outputs": [],
      "source": []
    },
    {
      "cell_type": "code",
      "execution_count": null,
      "metadata": {
        "id": "MUspRxE4yFPb"
      },
      "outputs": [],
      "source": []
    },
    {
      "cell_type": "markdown",
      "metadata": {
        "id": "lfKj13DH1zRn"
      },
      "source": [
        "# Create&Save Movies"
      ]
    },
    {
      "cell_type": "markdown",
      "metadata": {
        "id": "HlC63Iaa4sX0"
      },
      "source": [
        "## Define where to cut and how freq."
      ]
    },
    {
      "cell_type": "code",
      "execution_count": null,
      "metadata": {
        "id": "LjiD4R-43klw"
      },
      "outputs": [],
      "source": [
        "# frame to cut\n",
        "L = list(range(tracking_home.index.max()))\n",
        "sparse_num = 1 # int(0.5/0.04)\n",
        "sparse_L=L[::sparse_num]\n",
        "\n",
        "# creating a movie \n",
        "# start_frame = sparse_L[:20][0]+ 1\n",
        "# end_frame = sparse_L[:20][len(sparse_L[:20])-1] + 1\n",
        "\n",
        "start_frame = 25*5\n",
        "end_frame = 25*5+25*30"
      ]
    },
    {
      "cell_type": "markdown",
      "metadata": {
        "id": "YSabh6xP115F"
      },
      "source": [
        "## Normal 2D movies"
      ]
    },
    {
      "cell_type": "code",
      "execution_count": null,
      "metadata": {
        "colab": {
          "base_uri": "https://localhost:8080/"
        },
        "id": "On4kUUyeXzwO",
        "outputId": "076cf7ea-6d08-4e88-aec9-d0d1af91198a"
      },
      "outputs": [
        {
          "name": "stdout",
          "output_type": "stream",
          "text": [
            "Generating movie...done\n"
          ]
        }
      ],
      "source": [
        "mviz.save_match_clip(tracking_home[start_frame:end_frame],tracking_away[start_frame:end_frame], '/content', fname='clip_test_v1', figax=None, frames_per_second=25, team_colors=('r','b'), field_dimen = (106.0,68.0), include_player_velocities=True, PlayerMarkerSize=10, PlayerAlpha=0.7)"
      ]
    },
    {
      "cell_type": "markdown",
      "metadata": {
        "id": "LgAM0LWl4zNb"
      },
      "source": [
        "## PPCF fig2movies"
      ]
    },
    {
      "cell_type": "code",
      "execution_count": null,
      "metadata": {
        "id": "a8yCsYhBYhjD"
      },
      "outputs": [],
      "source": [
        "# Creating png figures per slice\n",
        "for i in range(start_frame-1,end_frame):\n",
        "  # evaluated pitch control per frame\n",
        "  print(i+1)\n",
        "  PPCF,xgrid,ygrid = generate_pitch_control_for_track(i+1, tracking_home, tracking_away, params, GK_numbers, field_dimen = (106.,68.,), n_grid_cells_x = 50)\n",
        "  plot_pitchcontrol_for_track( i+1, tracking_home, tracking_away, PPCF, annotate=False )"
      ]
    },
    {
      "cell_type": "code",
      "execution_count": null,
      "metadata": {
        "id": "1pjv2G87yPhI"
      },
      "outputs": [],
      "source": [
        "# Merging all png figures to a movie\n",
        "import cv2\n",
        "import numpy as np\n",
        "\n",
        "width=864\n",
        "height=576\n",
        "fps=25\n",
        "\n",
        "# choose codec according to format needed\n",
        "fourcc = cv2.VideoWriter_fourcc(*'mp4v') \n",
        "video = cv2.VideoWriter('/content/PPCF_v1.avi', fourcc, fps, (width, height))\n",
        "\n",
        "\n",
        "for i in range(start_frame-1,end_frame):\n",
        "    img = cv2.imread('/content/PPCF_'+str(i+1)+'.png')\n",
        "    video.write(img)\n",
        "\n",
        "cv2.destroyAllWindows()\n",
        "video.release()"
      ]
    },
    {
      "cell_type": "code",
      "execution_count": null,
      "metadata": {
        "id": "P37POSh85tMY"
      },
      "outputs": [],
      "source": []
    }
  ],
  "metadata": {
    "colab": {
      "authorship_tag": "ABX9TyPoEq+rF9FtySloPzGCQAiz",
      "collapsed_sections": [
        "51hBbSUSVYXU",
        "mfJAyL4O1nTG",
        "oPjdjgtn4O-w",
        "ax8Bj3s632X6",
        "aa14b11W38eh",
        "V8rWbRdN1wY0"
      ],
      "include_colab_link": true,
      "name": "Soccer_Tracking_data_v2.ipynb",
      "provenance": []
    },
    "kernelspec": {
      "display_name": "Python 3",
      "name": "python3"
    },
    "language_info": {
      "name": "python"
    }
  },
  "nbformat": 4,
  "nbformat_minor": 0
}
